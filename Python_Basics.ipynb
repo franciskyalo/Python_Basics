{
  "nbformat": 4,
  "nbformat_minor": 0,
  "metadata": {
    "colab": {
      "provenance": [],
      "authorship_tag": "ABX9TyPXvdcu2ksnJ4RUXim2Y4wA",
      "include_colab_link": true
    },
    "kernelspec": {
      "name": "python3",
      "display_name": "Python 3"
    },
    "language_info": {
      "name": "python"
    }
  },
  "cells": [
    {
      "cell_type": "markdown",
      "metadata": {
        "id": "view-in-github",
        "colab_type": "text"
      },
      "source": [
        "<a href=\"https://colab.research.google.com/github/franciskyalo/Python_Basics/blob/main/Python_Basics.ipynb\" target=\"_parent\"><img src=\"https://colab.research.google.com/assets/colab-badge.svg\" alt=\"Open In Colab\"/></a>"
      ]
    },
    {
      "cell_type": "markdown",
      "source": [
        "Python Course For Beginners by Programmingwithmosh\n",
        "\n",
        "https://youtu.be/K5KVEU3aaeQ?si=VtMmzhjNwR7xL83C"
      ],
      "metadata": {
        "id": "BpxT2hA5PsIz"
      }
    },
    {
      "cell_type": "code",
      "execution_count": null,
      "metadata": {
        "colab": {
          "base_uri": "https://localhost:8080/"
        },
        "id": "TUWrgaFsOt-N",
        "outputId": "374356c9-5678-49cc-ff31-4f82faf92dd9"
      },
      "outputs": [
        {
          "output_type": "stream",
          "name": "stdout",
          "text": [
            "hello world\n"
          ]
        }
      ],
      "source": [
        "#first python program\n",
        "\n",
        "print('hello world')"
      ]
    },
    {
      "cell_type": "code",
      "source": [
        "print(\"*\" * 10)"
      ],
      "metadata": {
        "colab": {
          "base_uri": "https://localhost:8080/"
        },
        "id": "U5CFbqhhSNTe",
        "outputId": "fbd82b5d-f0ab-4f41-cdd5-a0e52e5e63ff"
      },
      "execution_count": null,
      "outputs": [
        {
          "output_type": "stream",
          "name": "stdout",
          "text": [
            "**********\n"
          ]
        }
      ]
    },
    {
      "cell_type": "code",
      "source": [
        "#Python PEP 8 for python formatting\n",
        "\n",
        "x = 1\n",
        "\n",
        "# use the autopep8 vs extension"
      ],
      "metadata": {
        "id": "iienWRnXTotD"
      },
      "execution_count": null,
      "outputs": []
    },
    {
      "cell_type": "code",
      "source": [
        "students = 1000"
      ],
      "metadata": {
        "id": "vfOuyNSVTqsb"
      },
      "execution_count": null,
      "outputs": []
    },
    {
      "cell_type": "code",
      "source": [
        "number_of_books = students / 50\n",
        "\n",
        "print(number_of_books)"
      ],
      "metadata": {
        "colab": {
          "base_uri": "https://localhost:8080/"
        },
        "id": "LAUqFzL2hR5B",
        "outputId": "8a4b6ed0-329e-4b87-8b42-155fb20b6610"
      },
      "execution_count": null,
      "outputs": [
        {
          "output_type": "stream",
          "name": "stdout",
          "text": [
            "20.0\n"
          ]
        }
      ]
    },
    {
      "cell_type": "code",
      "source": [
        "#data types\n",
        "\n",
        "# float\n",
        "\n",
        "# integer\n",
        "\n",
        "# Bolean\n",
        "\n",
        "#  strings"
      ],
      "metadata": {
        "id": "gRF9SOabhsVN"
      },
      "execution_count": null,
      "outputs": []
    },
    {
      "cell_type": "code",
      "source": [
        "str_var = \"francis kyalo\""
      ],
      "metadata": {
        "id": "7lN5HX_CinMK"
      },
      "execution_count": null,
      "outputs": []
    },
    {
      "cell_type": "code",
      "source": [
        "len(str_var)"
      ],
      "metadata": {
        "colab": {
          "base_uri": "https://localhost:8080/"
        },
        "id": "x-OrOBlhjEmr",
        "outputId": "72a3c87d-a60f-4ef2-ad61-508b39f8d00a"
      },
      "execution_count": null,
      "outputs": [
        {
          "output_type": "execute_result",
          "data": {
            "text/plain": [
              "13"
            ]
          },
          "metadata": {},
          "execution_count": 5
        }
      ]
    },
    {
      "cell_type": "code",
      "source": [
        "str_var[1]"
      ],
      "metadata": {
        "colab": {
          "base_uri": "https://localhost:8080/",
          "height": 35
        },
        "id": "kA-l37HvjIWc",
        "outputId": "d891151b-23e1-497d-f8a1-386b51bb863b"
      },
      "execution_count": null,
      "outputs": [
        {
          "output_type": "execute_result",
          "data": {
            "text/plain": [
              "'r'"
            ],
            "application/vnd.google.colaboratory.intrinsic+json": {
              "type": "string"
            }
          },
          "metadata": {},
          "execution_count": 6
        }
      ]
    },
    {
      "cell_type": "code",
      "source": [
        "str_var[0]"
      ],
      "metadata": {
        "colab": {
          "base_uri": "https://localhost:8080/",
          "height": 35
        },
        "id": "e9yZZK9PjNfs",
        "outputId": "db668e79-b3ed-4d96-bb21-91ced46001a3"
      },
      "execution_count": null,
      "outputs": [
        {
          "output_type": "execute_result",
          "data": {
            "text/plain": [
              "'f'"
            ],
            "application/vnd.google.colaboratory.intrinsic+json": {
              "type": "string"
            }
          },
          "metadata": {},
          "execution_count": 7
        }
      ]
    },
    {
      "cell_type": "code",
      "source": [
        "str_var[-1]"
      ],
      "metadata": {
        "colab": {
          "base_uri": "https://localhost:8080/",
          "height": 35
        },
        "id": "t-hLSq7ejVVs",
        "outputId": "f3339e57-ba53-4582-c929-1159b9b41f24"
      },
      "execution_count": null,
      "outputs": [
        {
          "output_type": "execute_result",
          "data": {
            "text/plain": [
              "'o'"
            ],
            "application/vnd.google.colaboratory.intrinsic+json": {
              "type": "string"
            }
          },
          "metadata": {},
          "execution_count": 8
        }
      ]
    },
    {
      "cell_type": "code",
      "source": [
        "str_var[0:7]"
      ],
      "metadata": {
        "colab": {
          "base_uri": "https://localhost:8080/",
          "height": 35
        },
        "id": "weEZzZsJjcms",
        "outputId": "f74df708-090c-459f-f330-152f37abdfe9"
      },
      "execution_count": null,
      "outputs": [
        {
          "output_type": "execute_result",
          "data": {
            "text/plain": [
              "'francis'"
            ],
            "application/vnd.google.colaboratory.intrinsic+json": {
              "type": "string"
            }
          },
          "metadata": {},
          "execution_count": 10
        }
      ]
    },
    {
      "cell_type": "code",
      "source": [
        "str_var[0:]"
      ],
      "metadata": {
        "colab": {
          "base_uri": "https://localhost:8080/",
          "height": 35
        },
        "id": "cfmAtsyMjkyM",
        "outputId": "f459ddfa-1b11-4fa8-bbfd-ab8f0fa00ef6"
      },
      "execution_count": null,
      "outputs": [
        {
          "output_type": "execute_result",
          "data": {
            "text/plain": [
              "'francis kyalo'"
            ],
            "application/vnd.google.colaboratory.intrinsic+json": {
              "type": "string"
            }
          },
          "metadata": {},
          "execution_count": 11
        }
      ]
    },
    {
      "cell_type": "code",
      "source": [
        "str_var[:3]"
      ],
      "metadata": {
        "colab": {
          "base_uri": "https://localhost:8080/",
          "height": 35
        },
        "id": "Zq-GPrbaj8sL",
        "outputId": "7b08b4b7-e83c-407d-afc2-e360943610e1"
      },
      "execution_count": null,
      "outputs": [
        {
          "output_type": "execute_result",
          "data": {
            "text/plain": [
              "'fra'"
            ],
            "application/vnd.google.colaboratory.intrinsic+json": {
              "type": "string"
            }
          },
          "metadata": {},
          "execution_count": 12
        }
      ]
    },
    {
      "cell_type": "code",
      "source": [
        "# escape character\n",
        "\n",
        "new_str = \"francis\\nkyalo\""
      ],
      "metadata": {
        "id": "P3Uje9FOkBid"
      },
      "execution_count": null,
      "outputs": []
    },
    {
      "cell_type": "code",
      "source": [
        "print(new_str)"
      ],
      "metadata": {
        "colab": {
          "base_uri": "https://localhost:8080/"
        },
        "id": "Z5oQpCJ-kNs7",
        "outputId": "80b2e040-d13d-42fc-b1d9-db6d159a3c4a"
      },
      "execution_count": null,
      "outputs": [
        {
          "output_type": "stream",
          "name": "stdout",
          "text": [
            "francis\n",
            "kyalo\n"
          ]
        }
      ]
    },
    {
      "cell_type": "code",
      "source": [
        "first = \"Francis\"\n",
        "\n",
        "Last = \"Kyalo\""
      ],
      "metadata": {
        "id": "YRiSKZDwkPRr"
      },
      "execution_count": null,
      "outputs": []
    },
    {
      "cell_type": "code",
      "source": [
        "#formatted strings\n",
        "print(f\"{first} {Last}\")\n"
      ],
      "metadata": {
        "colab": {
          "base_uri": "https://localhost:8080/"
        },
        "id": "wd4nQmFUkiUx",
        "outputId": "f9d8a519-fba4-466a-bbc1-b4a6a46a1439"
      },
      "execution_count": null,
      "outputs": [
        {
          "output_type": "stream",
          "name": "stdout",
          "text": [
            "Francis Kyalo\n"
          ]
        }
      ]
    },
    {
      "cell_type": "code",
      "source": [
        "first.capitalize()"
      ],
      "metadata": {
        "colab": {
          "base_uri": "https://localhost:8080/",
          "height": 35
        },
        "id": "LABl3984ku7L",
        "outputId": "90018cf4-d8b1-4dc0-fca8-75382fb42241"
      },
      "execution_count": null,
      "outputs": [
        {
          "output_type": "execute_result",
          "data": {
            "text/plain": [
              "'Francis'"
            ],
            "application/vnd.google.colaboratory.intrinsic+json": {
              "type": "string"
            }
          },
          "metadata": {},
          "execution_count": 17
        }
      ]
    },
    {
      "cell_type": "code",
      "source": [
        "print(first.upper())"
      ],
      "metadata": {
        "colab": {
          "base_uri": "https://localhost:8080/"
        },
        "id": "yeL0SFVZlC6R",
        "outputId": "073a707b-15b7-49c3-f23b-471deaa76d81"
      },
      "execution_count": null,
      "outputs": [
        {
          "output_type": "stream",
          "name": "stdout",
          "text": [
            "FRANCIS\n"
          ]
        }
      ]
    },
    {
      "cell_type": "code",
      "source": [
        "print(first.endswith(\"ncis\"))"
      ],
      "metadata": {
        "colab": {
          "base_uri": "https://localhost:8080/"
        },
        "id": "ZO7b24L7lN7K",
        "outputId": "c4579fb2-0a5a-43f6-cf6d-471afd6fbe09"
      },
      "execution_count": null,
      "outputs": [
        {
          "output_type": "stream",
          "name": "stdout",
          "text": [
            "True\n"
          ]
        }
      ]
    },
    {
      "cell_type": "code",
      "source": [
        "print(first.find(\"i\"))"
      ],
      "metadata": {
        "colab": {
          "base_uri": "https://localhost:8080/"
        },
        "id": "gLBTz2YQlaU8",
        "outputId": "f8d43b76-aa01-4257-e9d9-5e8928e25f3b"
      },
      "execution_count": null,
      "outputs": [
        {
          "output_type": "stream",
          "name": "stdout",
          "text": [
            "5\n"
          ]
        }
      ]
    },
    {
      "cell_type": "code",
      "source": [
        "print(first.replace(\"F\",\"J\"))"
      ],
      "metadata": {
        "colab": {
          "base_uri": "https://localhost:8080/"
        },
        "id": "NRHvs22Wl0ZL",
        "outputId": "60d7fbed-8a0e-4e8c-f985-4a30a551c80c"
      },
      "execution_count": null,
      "outputs": [
        {
          "output_type": "stream",
          "name": "stdout",
          "text": [
            "Jrancis\n"
          ]
        }
      ]
    },
    {
      "cell_type": "code",
      "source": [
        "print(\"Fra\" in first)"
      ],
      "metadata": {
        "colab": {
          "base_uri": "https://localhost:8080/"
        },
        "id": "tzEHe6VQl8K6",
        "outputId": "dcc2d1d9-1497-4b46-b269-edb65868d546"
      },
      "execution_count": null,
      "outputs": [
        {
          "output_type": "stream",
          "name": "stdout",
          "text": [
            "True\n"
          ]
        }
      ]
    },
    {
      "cell_type": "code",
      "source": [
        "print(\"new\" not in first)"
      ],
      "metadata": {
        "colab": {
          "base_uri": "https://localhost:8080/"
        },
        "id": "u-eVoTNSmEC5",
        "outputId": "63810213-e663-4252-e109-32bec52a3be8"
      },
      "execution_count": null,
      "outputs": [
        {
          "output_type": "stream",
          "name": "stdout",
          "text": [
            "True\n"
          ]
        }
      ]
    },
    {
      "cell_type": "code",
      "source": [
        "#augmented assignment operator\n",
        "\n",
        "x = 10\n",
        "\n",
        "x += 3\n",
        "\n",
        "print(x)"
      ],
      "metadata": {
        "id": "Iph3HwRQmP6p",
        "colab": {
          "base_uri": "https://localhost:8080/"
        },
        "outputId": "2c8d606c-1399-4a1a-8a6a-de33c9aee6a7"
      },
      "execution_count": null,
      "outputs": [
        {
          "output_type": "stream",
          "name": "stdout",
          "text": [
            "13\n"
          ]
        }
      ]
    },
    {
      "cell_type": "code",
      "source": [
        "#using math module for more complex operations\n",
        "import math\n",
        "math.lcm(8,16,24,32)"
      ],
      "metadata": {
        "colab": {
          "base_uri": "https://localhost:8080/"
        },
        "id": "OdHw29wEfTCZ",
        "outputId": "75796a97-8cc6-45fe-cac6-ca498fc9ce0b"
      },
      "execution_count": null,
      "outputs": [
        {
          "output_type": "execute_result",
          "data": {
            "text/plain": [
              "96"
            ]
          },
          "metadata": {},
          "execution_count": 2
        }
      ]
    },
    {
      "cell_type": "code",
      "source": [
        "math.gcd(8,16,24,32)"
      ],
      "metadata": {
        "colab": {
          "base_uri": "https://localhost:8080/"
        },
        "id": "mtyA5InOgHqZ",
        "outputId": "d39a1bf6-cc6b-4d17-9689-c3fcec789e43"
      },
      "execution_count": null,
      "outputs": [
        {
          "output_type": "execute_result",
          "data": {
            "text/plain": [
              "8"
            ]
          },
          "metadata": {},
          "execution_count": 3
        }
      ]
    },
    {
      "cell_type": "code",
      "source": [
        "#how to use inouts in python\n",
        "name = input(\"what is your name? \")\n",
        "print(\"hello \" + name)\n",
        "\n"
      ],
      "metadata": {
        "colab": {
          "base_uri": "https://localhost:8080/"
        },
        "id": "elQrl4kOgMoE",
        "outputId": "72ca4125-eca1-4341-9edf-ad2c484a5e4d"
      },
      "execution_count": null,
      "outputs": [
        {
          "output_type": "stream",
          "name": "stdout",
          "text": [
            "what is your name? francis\n",
            "hello francis\n"
          ]
        }
      ]
    },
    {
      "cell_type": "code",
      "source": [
        "#Comparison operators in python\n",
        "10 == 10\n",
        "10 > 10\n",
        "10 <= 10"
      ],
      "metadata": {
        "colab": {
          "base_uri": "https://localhost:8080/"
        },
        "id": "aUmDpO-uhBFI",
        "outputId": "bd27b2e2-a562-4776-abe6-b4769cdb99af"
      },
      "execution_count": null,
      "outputs": [
        {
          "output_type": "execute_result",
          "data": {
            "text/plain": [
              "True"
            ]
          },
          "metadata": {},
          "execution_count": 7
        }
      ]
    },
    {
      "cell_type": "code",
      "source": [
        "#conditional statements in python\n",
        "\n",
        "temperature = 31\n",
        "\n",
        "if temperature > 30:\n",
        "    print(\"it's a hot day\")\n",
        "    print(\"drink plenty of water\")\n",
        "\n",
        "\n",
        "elif temperature > 20:\n",
        "    print(\"it's a nice day\")\n",
        "\n",
        "else:\n",
        "    print(\"it's cold\")\n",
        "\n",
        "print(\"done\")"
      ],
      "metadata": {
        "colab": {
          "base_uri": "https://localhost:8080/"
        },
        "id": "YN8imy1wlppb",
        "outputId": "8dfc8b52-1287-42e0-d00e-090edddd37ca"
      },
      "execution_count": null,
      "outputs": [
        {
          "output_type": "stream",
          "name": "stdout",
          "text": [
            "it's a hot day\n",
            "drink plenty of water\n",
            "done\n"
          ]
        }
      ]
    },
    {
      "cell_type": "code",
      "source": [
        "goals = 2\n",
        "\n",
        "if goals >= 3:\n",
        "  print(f\"At {goals} goals this is a high scoring goal\")\n",
        "\n",
        "elif goals >= 2:\n",
        "  print(f\"At {goals} goals this is a medium scoring goal\")\n",
        "\n",
        "else:\n",
        "  print(f\"At {goals} goals this is a low scoring goal\")"
      ],
      "metadata": {
        "colab": {
          "base_uri": "https://localhost:8080/"
        },
        "id": "hHznHIA_mSVu",
        "outputId": "662ce222-38e4-43b1-8e60-08f8c4349a6d"
      },
      "execution_count": null,
      "outputs": [
        {
          "output_type": "stream",
          "name": "stdout",
          "text": [
            "At 2 goals this is a medium scoring goal\n"
          ]
        }
      ]
    },
    {
      "cell_type": "code",
      "source": [
        "# ternary operators in python\n",
        "weight = 100\n",
        "message =\"strong\" if weight >= 100 else \"weak\"\n",
        "print(message)"
      ],
      "metadata": {
        "colab": {
          "base_uri": "https://localhost:8080/"
        },
        "id": "_wgruev6m2H8",
        "outputId": "02b6af81-6627-4530-a96b-3d145a1032be"
      },
      "execution_count": null,
      "outputs": [
        {
          "output_type": "stream",
          "name": "stdout",
          "text": [
            "strong\n"
          ]
        }
      ]
    },
    {
      "cell_type": "code",
      "source": [
        "#using and, or and  not in python\n",
        "high_income = True\n",
        "good_credit = True\n",
        "\n",
        "if high_income and good_credit:\n",
        "    print(\"eligible for loan\")\n",
        "\n"
      ],
      "metadata": {
        "colab": {
          "base_uri": "https://localhost:8080/"
        },
        "id": "BcwiW6IloReN",
        "outputId": "1b86cd0b-3626-4e62-fd41-68531db3cf2b"
      },
      "execution_count": null,
      "outputs": [
        {
          "output_type": "stream",
          "name": "stdout",
          "text": [
            "eligible for loan\n"
          ]
        }
      ]
    },
    {
      "cell_type": "code",
      "source": [
        "#chaining comparison operators in python\n",
        "#chaining comparison operators in python\n",
        "age = 30\n",
        "\n",
        "if 18 <= age < 60:\n",
        "  print(\"can be a student\")\n"
      ],
      "metadata": {
        "colab": {
          "base_uri": "https://localhost:8080/"
        },
        "id": "V4O0GgN3pTme",
        "outputId": "c0edd46b-7192-443d-cd39-5292251608b3"
      },
      "execution_count": null,
      "outputs": [
        {
          "output_type": "stream",
          "name": "stdout",
          "text": [
            "can be a student\n"
          ]
        }
      ]
    },
    {
      "cell_type": "code",
      "source": [
        "#for loops in python\n",
        "\n",
        "for number in range(1,10,2):\n",
        "    print(\"attempt\",str(number) + number * \".\")"
      ],
      "metadata": {
        "colab": {
          "base_uri": "https://localhost:8080/"
        },
        "id": "Wzdtjhx3sGkS",
        "outputId": "aefeafa8-674f-40b8-9c20-3665b2ddf123"
      },
      "execution_count": null,
      "outputs": [
        {
          "output_type": "stream",
          "name": "stdout",
          "text": [
            "attempt 1.\n",
            "attempt 3...\n",
            "attempt 5.....\n",
            "attempt 7.......\n",
            "attempt 9.........\n"
          ]
        }
      ]
    },
    {
      "cell_type": "code",
      "source": [
        "#nested loops\n",
        "\n",
        "for x in range(5):\n",
        "    for y in range(3):\n",
        "        print(f\"({x},{y})\")"
      ],
      "metadata": {
        "id": "BpJJEQ8_sXZN",
        "colab": {
          "base_uri": "https://localhost:8080/"
        },
        "outputId": "3dc34f5f-0115-43e9-e2dd-7800790ecec6"
      },
      "execution_count": 1,
      "outputs": [
        {
          "output_type": "stream",
          "name": "stdout",
          "text": [
            "(0,0)\n",
            "(0,1)\n",
            "(0,2)\n",
            "(1,0)\n",
            "(1,1)\n",
            "(1,2)\n",
            "(2,0)\n",
            "(2,1)\n",
            "(2,2)\n",
            "(3,0)\n",
            "(3,1)\n",
            "(3,2)\n",
            "(4,0)\n",
            "(4,1)\n",
            "(4,2)\n"
          ]
        }
      ]
    },
    {
      "cell_type": "code",
      "source": [
        "#range function\n",
        "print(type(range(5)))"
      ],
      "metadata": {
        "colab": {
          "base_uri": "https://localhost:8080/"
        },
        "id": "LD3aFBjBYI3w",
        "outputId": "a921d7b0-22ba-492b-d905-a4683fdc5fa7"
      },
      "execution_count": 2,
      "outputs": [
        {
          "output_type": "stream",
          "name": "stdout",
          "text": [
            "<class 'range'>\n"
          ]
        }
      ]
    },
    {
      "cell_type": "code",
      "source": [
        "list_of_numbers = [1,2,3,4]\n",
        "\n",
        "for x in list_of_numbers:\n",
        "    print(x)"
      ],
      "metadata": {
        "colab": {
          "base_uri": "https://localhost:8080/"
        },
        "id": "0-b6Ty01YxX8",
        "outputId": "529c917e-b4db-480e-8a99-1e03735f1fbf"
      },
      "execution_count": 3,
      "outputs": [
        {
          "output_type": "stream",
          "name": "stdout",
          "text": [
            "1\n",
            "2\n",
            "3\n",
            "4\n"
          ]
        }
      ]
    },
    {
      "cell_type": "code",
      "source": [
        "#while loops in python\n",
        "x = 3\n",
        "\n",
        "number = 5\n",
        "\n",
        "while x <= number:\n",
        "  print(\"francis\")\n",
        "  x += 2\n",
        "\n"
      ],
      "metadata": {
        "colab": {
          "base_uri": "https://localhost:8080/"
        },
        "id": "7WTHKHThZOfM",
        "outputId": "ac1686f6-7d2d-4b22-dfdf-78d18ebdb3bf"
      },
      "execution_count": 5,
      "outputs": [
        {
          "output_type": "stream",
          "name": "stdout",
          "text": [
            "francis\n",
            "francis\n"
          ]
        }
      ]
    },
    {
      "cell_type": "code",
      "source": [
        "count = 0\n",
        "\n",
        "for x in range(1,10):\n",
        "  if x % 2 == 0:\n",
        "    count += 1\n",
        "    print(x)\n",
        "\n",
        "print(f\"we have {count} even numbers\")"
      ],
      "metadata": {
        "colab": {
          "base_uri": "https://localhost:8080/"
        },
        "id": "b7cPCBSQZtQ_",
        "outputId": "22801d70-a27d-4fd6-c742-8a74b61ee165"
      },
      "execution_count": 9,
      "outputs": [
        {
          "output_type": "stream",
          "name": "stdout",
          "text": [
            "2\n",
            "4\n",
            "6\n",
            "8\n",
            "we have 4 even numbers\n"
          ]
        }
      ]
    },
    {
      "cell_type": "code",
      "source": [
        "#writing functions in python\n",
        "\n",
        "def add(x, y):\n",
        "\n",
        "  print(x + y)\n",
        "\n",
        "\n",
        "add(3,2)\n"
      ],
      "metadata": {
        "colab": {
          "base_uri": "https://localhost:8080/"
        },
        "id": "g87wm-6gbtRP",
        "outputId": "2e96e4dd-0c2b-4d13-aada-839db50d21da"
      },
      "execution_count": 12,
      "outputs": [
        {
          "output_type": "stream",
          "name": "stdout",
          "text": [
            "5\n"
          ]
        }
      ]
    },
    {
      "cell_type": "code",
      "source": [],
      "metadata": {
        "id": "mW0cK-qKc0oi"
      },
      "execution_count": null,
      "outputs": []
    }
  ]
}