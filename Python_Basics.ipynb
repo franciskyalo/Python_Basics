{
  "nbformat": 4,
  "nbformat_minor": 0,
  "metadata": {
    "colab": {
      "provenance": [],
      "authorship_tag": "ABX9TyPXf22X7gpOetD2jDrGVqLB",
      "include_colab_link": true
    },
    "kernelspec": {
      "name": "python3",
      "display_name": "Python 3"
    },
    "language_info": {
      "name": "python"
    }
  },
  "cells": [
    {
      "cell_type": "markdown",
      "metadata": {
        "id": "view-in-github",
        "colab_type": "text"
      },
      "source": [
        "<a href=\"https://colab.research.google.com/github/franciskyalo/Python_Basics/blob/main/Python_Basics.ipynb\" target=\"_parent\"><img src=\"https://colab.research.google.com/assets/colab-badge.svg\" alt=\"Open In Colab\"/></a>"
      ]
    },
    {
      "cell_type": "markdown",
      "source": [
        "Python Course For Beginners by Programmingwithmosh\n",
        "\n",
        "https://youtu.be/K5KVEU3aaeQ?si=VtMmzhjNwR7xL83C"
      ],
      "metadata": {
        "id": "BpxT2hA5PsIz"
      }
    },
    {
      "cell_type": "code",
      "execution_count": 1,
      "metadata": {
        "colab": {
          "base_uri": "https://localhost:8080/"
        },
        "id": "TUWrgaFsOt-N",
        "outputId": "374356c9-5678-49cc-ff31-4f82faf92dd9"
      },
      "outputs": [
        {
          "output_type": "stream",
          "name": "stdout",
          "text": [
            "hello world\n"
          ]
        }
      ],
      "source": [
        "#first python program\n",
        "\n",
        "print('hello world')"
      ]
    },
    {
      "cell_type": "code",
      "source": [
        "print(\"*\" * 10)"
      ],
      "metadata": {
        "colab": {
          "base_uri": "https://localhost:8080/"
        },
        "id": "U5CFbqhhSNTe",
        "outputId": "fbd82b5d-f0ab-4f41-cdd5-a0e52e5e63ff"
      },
      "execution_count": 2,
      "outputs": [
        {
          "output_type": "stream",
          "name": "stdout",
          "text": [
            "**********\n"
          ]
        }
      ]
    },
    {
      "cell_type": "code",
      "source": [
        "#Python PEP 8 for python formatting\n",
        "\n",
        "x = 1\n",
        "\n",
        "# use the autopep8 vs extension"
      ],
      "metadata": {
        "id": "iienWRnXTotD"
      },
      "execution_count": 3,
      "outputs": []
    },
    {
      "cell_type": "code",
      "source": [],
      "metadata": {
        "colab": {
          "base_uri": "https://localhost:8080/"
        },
        "id": "vfOuyNSVTqsb",
        "outputId": "818954ae-6677-40ef-f3df-5e220b6de09d"
      },
      "execution_count": 4,
      "outputs": [
        {
          "output_type": "stream",
          "name": "stdout",
          "text": [
            "11\n"
          ]
        }
      ]
    }
  ]
}